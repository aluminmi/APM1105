{
 "cells": [
  {
   "cell_type": "code",
   "execution_count": 12,
   "id": "08006f61",
   "metadata": {
    "scrolled": true
   },
   "outputs": [
    {
     "name": "stdout",
     "output_type": "stream",
     "text": [
      "Enter base: 4\n",
      "Enter exponent: 57\n",
      "4.0 raised to the power of 57 is inf\n",
      "rendering time is 0.0020470619201660156 seconds\n",
      "Wall time: 4.68 s\n"
     ]
    }
   ],
   "source": [
    "%%time\n",
    "\n",
    "# number 1 recursion, base is float\n",
    "\n",
    "def recursive_exponent(base,exp):\n",
    "    if base == 0 and exp == 0 or exp < 0:\n",
    "        print(\"Undefined!\")\n",
    "    elif exp == 1:\n",
    "        return base\n",
    "    else:\n",
    "        return base *recursive_exponent(base, exp-1)\n",
    "# user input code   \n",
    "base = float(input(\"Enter base: \"))\n",
    "exp = int(input(\"Enter exponent: \"))\n",
    "\n",
    "#printing the output\n",
    "print(f\"{base} raised to the power of {exp} is {result}\")\n",
    "print(f\"rendering time is {rendering_time} seconds\")\n"
   ]
  },
  {
   "cell_type": "code",
   "execution_count": 14,
   "id": "233a3206",
   "metadata": {
    "scrolled": true
   },
   "outputs": [
    {
     "name": "stdout",
     "output_type": "stream",
     "text": [
      "Enter base: 2\n",
      "Enter exponent: 5\n",
      "2.0 raised to the power of 5 is inf\n",
      "rendering time is 0.0020470619201660156 seconds\n",
      "Wall time: 2.51 s\n"
     ]
    }
   ],
   "source": [
    "%%time\n",
    "# number 1 iteration base is float\n",
    "import time\n",
    "def iterative_exponent(base, exp):\n",
    "    result = 1\n",
    "    for i in range(exp):\n",
    "        result *= base\n",
    "    return result\n",
    "    \n",
    "# user input code   \n",
    "base = float(input(\"Enter base: \"))\n",
    "exp = int(input(\"Enter exponent: \"))\n",
    "\n",
    "#printing the output\n",
    "print(f\"{base} raised to the power of {exp} is {answer}\")\n",
    "print(f\"rendering time is {rendering_time} seconds\")"
   ]
  },
  {
   "cell_type": "code",
   "execution_count": null,
   "id": "09158072",
   "metadata": {},
   "outputs": [],
   "source": [
    "# iteration is much faster than recursive. "
   ]
  },
  {
   "cell_type": "code",
   "execution_count": 29,
   "id": "63b2193a",
   "metadata": {},
   "outputs": [
    {
     "name": "stdout",
     "output_type": "stream",
     "text": [
      "Enter a positive integer n: 20\n",
      "Sum of first 20 powers of 2, iteratively: 2097151\n",
      "Rendering time: 0.00000000s\n",
      "\n",
      "Sum of first -1 powers of 2, recursively: 0\n",
      "Rendering time: 0.00000000s\n",
      "\n",
      "Sum of first 0 powers of 2, recursively: 0.5\n",
      "Rendering time: 0.00000000s\n",
      "\n",
      "Sum of first 1 powers of 2, recursively: 1.5\n",
      "Rendering time: 0.00000000s\n",
      "\n",
      "Sum of first 2 powers of 2, recursively: 3.5\n",
      "Rendering time: 0.00000000s\n",
      "\n",
      "Sum of first 3 powers of 2, recursively: 7.5\n",
      "Rendering time: 0.00000000s\n",
      "\n",
      "Sum of first 4 powers of 2, recursively: 15.5\n",
      "Rendering time: 0.00000000s\n",
      "\n",
      "Sum of first 5 powers of 2, recursively: 31.5\n",
      "Rendering time: 0.00099659s\n",
      "\n",
      "Sum of first 6 powers of 2, recursively: 63.5\n",
      "Rendering time: 0.00099659s\n",
      "\n",
      "Sum of first 7 powers of 2, recursively: 127.5\n",
      "Rendering time: 0.00099659s\n",
      "\n",
      "Sum of first 8 powers of 2, recursively: 255.5\n",
      "Rendering time: 0.00099659s\n",
      "\n",
      "Sum of first 9 powers of 2, recursively: 511.5\n",
      "Rendering time: 0.00099659s\n",
      "\n",
      "Sum of first 10 powers of 2, recursively: 1023.5\n",
      "Rendering time: 0.00099659s\n",
      "\n",
      "Sum of first 11 powers of 2, recursively: 2047.5\n",
      "Rendering time: 0.00099659s\n",
      "\n",
      "Sum of first 12 powers of 2, recursively: 4095.5\n",
      "Rendering time: 0.00099659s\n",
      "\n",
      "Sum of first 13 powers of 2, recursively: 8191.5\n",
      "Rendering time: 0.00099659s\n",
      "\n",
      "Sum of first 14 powers of 2, recursively: 16383.5\n",
      "Rendering time: 0.00099659s\n",
      "\n",
      "Sum of first 15 powers of 2, recursively: 32767.5\n",
      "Rendering time: 0.00099659s\n",
      "\n",
      "Sum of first 16 powers of 2, recursively: 65535.5\n",
      "Rendering time: 0.00099659s\n",
      "\n",
      "Sum of first 17 powers of 2, recursively: 131071.5\n",
      "Rendering time: 0.00099659s\n",
      "\n",
      "Sum of first 18 powers of 2, recursively: 262143.5\n",
      "Rendering time: 0.00099659s\n",
      "\n",
      "Sum of first 19 powers of 2, recursively: 524287.5\n",
      "Rendering time: 0.00099659s\n",
      "\n",
      "Sum of first 20 powers of 2, recursively: 1048575.5\n",
      "Rendering time: 0.00099659s\n",
      "\n"
     ]
    },
    {
     "data": {
      "text/plain": [
       "1048575.5"
      ]
     },
     "execution_count": 29,
     "metadata": {},
     "output_type": "execute_result"
    }
   ],
   "source": [
    "#number 2 \n",
    "import time \n",
    "#iteration function to calculate the sum \n",
    "def iteration_sum(n):\n",
    "    start_time = time.time()\n",
    "    result = 0\n",
    "    for x in range(n+1):\n",
    "        result += 2**x\n",
    "    end_time = time.time()\n",
    "    print(f\"Sum of first {n} powers of 2, iteratively: {result}\")\n",
    "    print(f\"Rendering time: {end_time - start_time:.8f}s\\n\")\n",
    "    \n",
    "#recursive function to calculate the sum of the first n powers of 2\n",
    "def recursive_sum(n):\n",
    "    start_time = time.time()\n",
    "    if n+1== 0:\n",
    "        result = 0\n",
    "    else:\n",
    "        result = 2**(n-1) + recursive_sum(n-1)\n",
    "    end_time = time.time()\n",
    "    print(f\"Sum of first {n} powers of 2, recursively: {result}\")\n",
    "    print(f\"Rendering time: {end_time - start_time:.8f}s\\n\")\n",
    "    return result\n",
    "#user input for n \n",
    "n = int(input(\"Enter a positive integer n: \"))\n",
    "iteration_sum(n)\n",
    "recursive_sum(n)"
   ]
  },
  {
   "cell_type": "code",
   "execution_count": null,
   "id": "98d9317a",
   "metadata": {},
   "outputs": [],
   "source": [
    "# in number 2, iteration is much faster than recursive. Iteration is performing faster because recursion has a lot of overhead,\n",
    "#and its function calls are stored in stacks to allow the return function call back to its function."
   ]
  }
 ],
 "metadata": {
  "kernelspec": {
   "display_name": "Python 3 (ipykernel)",
   "language": "python",
   "name": "python3"
  },
  "language_info": {
   "codemirror_mode": {
    "name": "ipython",
    "version": 3
   },
   "file_extension": ".py",
   "mimetype": "text/x-python",
   "name": "python",
   "nbconvert_exporter": "python",
   "pygments_lexer": "ipython3",
   "version": "3.9.13"
  }
 },
 "nbformat": 4,
 "nbformat_minor": 5
}
