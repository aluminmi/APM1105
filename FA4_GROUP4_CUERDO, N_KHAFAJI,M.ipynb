{
 "cells": [
  {
   "cell_type": "code",
   "execution_count": 7,
   "metadata": {},
   "outputs": [
    {
     "name": "stdout",
     "output_type": "stream",
     "text": [
      "input numbers x and y, s.t. x and y is a positive number.\n",
      "x: 2\n",
      "\n",
      "\n",
      "y: 3\n",
      "9\n"
     ]
    }
   ],
   "source": [
    "#Write a function named ack that evaluates the Ackermann function. \n",
    "# Use your function to evaluate ack(2,4). What happens for larger values of m and n?\n",
    "\n",
    "def ack(x,y):\n",
    "    if x == 0:\n",
    "        return y+1\n",
    "    if y == 0:\n",
    "        return ack(x-1, 1)\n",
    "    return ack(x-1, ack(x,y-1))\n",
    "while True:\n",
    "    try:\n",
    "        print(\"input numbers x and y, s.t. x and y is a positive number.\")\n",
    "        x=int(input(\"x: \"))\n",
    "        print(\"\\n\")\n",
    "        y=int(input(\"y: \"))\n",
    "        assert x>=0\n",
    "        assert y>=0\n",
    "    except AssertionError:\n",
    "        print(\"please enter a positive number\")\n",
    "    else:\n",
    "        break\n",
    "    \n",
    "print(ack(x,y))"
   ]
  },
  {
   "cell_type": "code",
   "execution_count": 29,
   "metadata": {},
   "outputs": [
    {
     "name": "stdout",
     "output_type": "stream",
     "text": [
      "input two positive numbers,a and b, to see if a is a power of b\n",
      "a: 0.0000000001\n",
      "\n",
      "\n",
      "b: 0.00001\n",
      "is number a, a power of b?: \n",
      "True\n"
     ]
    }
   ],
   "source": [
    "#A number, a is a power of b if it is divisible by b and a/b is a power of b.\n",
    "#Write a function called is_power that takes parameters a and b and returns True if a is a power of b. \n",
    "#Note: you will have to think about a base case.\n",
    "import math \n",
    "def is_power(a,b):\n",
    "    \n",
    "    if math.log(a,b)%1==0:\n",
    "        return True\n",
    "    else:\n",
    "        return False\n",
    "        \n",
    "print(\"input two positive numbers,a and b, to see if a is a power of b\")\n",
    "a=float(input(\"a: \"))\n",
    "print(\"\\n\")\n",
    "b=float(input(\"b: \"))\n",
    "\n",
    "print(\"is number a, a power of b?: \")\n",
    "print(is_power(a,b))\n",
    "    "
   ]
  },
  {
   "cell_type": "code",
   "execution_count": null,
   "metadata": {},
   "outputs": [],
   "source": []
  }
 ],
 "metadata": {
  "kernelspec": {
   "display_name": "Python 3",
   "language": "python",
   "name": "python3"
  },
  "language_info": {
   "codemirror_mode": {
    "name": "ipython",
    "version": 3
   },
   "file_extension": ".py",
   "mimetype": "text/x-python",
   "name": "python",
   "nbconvert_exporter": "python",
   "pygments_lexer": "ipython3",
   "version": "3.7.0"
  }
 },
 "nbformat": 4,
 "nbformat_minor": 2
}
